{
 "cells": [
  {
   "cell_type": "markdown",
   "id": "tropical-lawyer",
   "metadata": {},
   "source": [
    "# assignment_1"
   ]
  },
  {
   "cell_type": "raw",
   "id": "particular-conflict",
   "metadata": {},
   "source": [
    "1- \n",
    "values are : 'hello' ; 6\n",
    "expression are : - ; / ; +"
   ]
  },
  {
   "cell_type": "raw",
   "id": "fitted-saint",
   "metadata": {},
   "source": [
    "2)\n",
    "String is just a type of variable.It's written between quotes\n",
    "However,variable is a reserved memory location to store values."
   ]
  },
  {
   "cell_type": "raw",
   "id": "digital-associate",
   "metadata": {},
   "source": [
    "3-\n",
    "1) Int – It stores the integers values that can be positive or negative and do not contain any decimal point.\n",
    "2) Float – These are floating-point real numbers that stores the decimal values. It consists of integer and fraction parts.\n",
    "3) Complex – These are complex numbers specified as a real part and an imaginary part\n",
    "\n",
    "\n"
   ]
  },
  {
   "cell_type": "raw",
   "id": "impaired-jungle",
   "metadata": {},
   "source": [
    "4-\n",
    "An expression is a construct made up of variables, operators, and method invocations, which are constructed according to the syntax of the language, that evaluates to a single value.\n"
   ]
  },
  {
   "cell_type": "raw",
   "id": "generic-premiere",
   "metadata": {},
   "source": [
    "5-\n",
    "An “expression” is a combination of values and functions that are combined and interpreted by the compiler to create a new value, as opposed to a “statement” which is just a standalone unit of execution and doesn't return anything.\n"
   ]
  },
  {
   "cell_type": "raw",
   "id": "primary-eating",
   "metadata": {},
   "source": [
    "6-\n",
    "bacon = 22\n",
    "bacon+1\n",
    "After running this code, the variable bacon will contains 22 as value"
   ]
  },
  {
   "cell_type": "raw",
   "id": "standing-terminal",
   "metadata": {},
   "source": [
    "7-The folowing two types will be the same values that are : 'spamspamspam'\n",
    "'spam'+'spamspam'\n",
    "'spam'*3\n"
   ]
  },
  {
   "cell_type": "raw",
   "id": "anticipated-description",
   "metadata": {},
   "source": [
    "8-\n",
    "The expression causes an error because 99 is an integer, and only strings can be concatenated to other strings with the + operator."
   ]
  },
  {
   "cell_type": "raw",
   "id": "responsible-puppy",
   "metadata": {},
   "source": [
    "9-\n",
    "The three functions are:\n",
    "The int() functions will evaluate to the integer,\n",
    "float() functions will evaluate to the floating-point , and str( )will evaluate the string "
   ]
  },
  {
   "cell_type": "raw",
   "id": "behavioral-mounting",
   "metadata": {},
   "source": [
    "10-\n",
    "'I have eaten ' + 99 + ' burritos.'\n",
    "This expression cause an error because we can't  concatenate str and int.\n",
    "to fix this issue, we must do Type casting.\n",
    "The right code is:\n",
    "'I have eaten ' + str(99) + ' burritos.'"
   ]
  }
 ],
 "metadata": {
  "kernelspec": {
   "display_name": "Python 3",
   "language": "python",
   "name": "python3"
  },
  "language_info": {
   "codemirror_mode": {
    "name": "ipython",
    "version": 3
   },
   "file_extension": ".py",
   "mimetype": "text/x-python",
   "name": "python",
   "nbconvert_exporter": "python",
   "pygments_lexer": "ipython3",
   "version": "3.8.8"
  }
 },
 "nbformat": 4,
 "nbformat_minor": 5
}
